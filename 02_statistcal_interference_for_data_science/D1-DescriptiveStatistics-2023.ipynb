{
 "cells": [
  {
   "cell_type": "markdown",
   "metadata": {
    "id": "5t2xPoSCBN_Y"
   },
   "source": [
    "Notebook 1, Module 2, Statistical Inference for Data Science, CAS Applied Data Science, 2023-08-29, A. Mühlemann, University of Bern.\n",
    "\n",
    "*This notebook is based on the notebook by S. Haug and G. Conti from 2020*"
   ]
  },
  {
   "cell_type": "markdown",
   "metadata": {
    "id": "3dfWj8ypBN_b"
   },
   "source": [
    "\n",
    "# 1. Descriptive Statistics on Single Features\n",
    "\n"
   ]
  },
  {
   "cell_type": "markdown",
   "metadata": {
    "id": "-xxxutTABN_b"
   },
   "source": [
    "**Goals**\n",
    "- Graphical preparation of the data\n",
    "- Calculate summary statistics\n"
   ]
  },
  {
   "cell_type": "markdown",
   "metadata": {
    "id": "3ke1EHw5BN_c"
   },
   "source": [
    "First load the necessary libraries / modules."
   ]
  },
  {
   "cell_type": "code",
   "execution_count": null,
   "metadata": {
    "tags": []
   },
   "outputs": [],
   "source": [
    "conda install pyarrow"
   ]
  },
  {
   "cell_type": "code",
   "execution_count": 1,
   "metadata": {
    "id": "uND0_WeNBN_d",
    "tags": []
   },
   "outputs": [],
   "source": [
    "# Load the needed python libraries by executing this python code (press ctrl enter)\n",
    "import numpy as np\n",
    "import scipy.stats\n",
    "import matplotlib.pyplot as plt\n",
    "import pandas as pd\n",
    "import io"
   ]
  },
  {
   "cell_type": "markdown",
   "metadata": {
    "id": "XvllAJhNBN_f"
   },
   "source": [
    "Load the dataset into a dataframe."
   ]
  },
  {
   "cell_type": "code",
   "execution_count": 2,
   "metadata": {
    "colab": {
     "base_uri": "https://localhost:8080/",
     "height": 206
    },
    "executionInfo": {
     "elapsed": 407,
     "status": "ok",
     "timestamp": 1693126145893,
     "user": {
      "displayName": "Anja Mühlemann",
      "userId": "13180139022750424409"
     },
     "user_tz": -120
    },
    "id": "HpRHtBTwBN_f",
    "outputId": "9f95a530-8c40-4edb-9dcc-13bd8d8f82f5",
    "tags": []
   },
   "outputs": [
    {
     "data": {
      "text/html": [
       "<div>\n",
       "<style scoped>\n",
       "    .dataframe tbody tr th:only-of-type {\n",
       "        vertical-align: middle;\n",
       "    }\n",
       "\n",
       "    .dataframe tbody tr th {\n",
       "        vertical-align: top;\n",
       "    }\n",
       "\n",
       "    .dataframe thead th {\n",
       "        text-align: right;\n",
       "    }\n",
       "</style>\n",
       "<table border=\"1\" class=\"dataframe\">\n",
       "  <thead>\n",
       "    <tr style=\"text-align: right;\">\n",
       "      <th></th>\n",
       "      <th>slength</th>\n",
       "      <th>swidth</th>\n",
       "      <th>plength</th>\n",
       "      <th>pwidth</th>\n",
       "      <th>species</th>\n",
       "    </tr>\n",
       "  </thead>\n",
       "  <tbody>\n",
       "    <tr>\n",
       "      <th>0</th>\n",
       "      <td>5.1</td>\n",
       "      <td>3.5</td>\n",
       "      <td>1.4</td>\n",
       "      <td>0.2</td>\n",
       "      <td>Iris-setosa</td>\n",
       "    </tr>\n",
       "    <tr>\n",
       "      <th>1</th>\n",
       "      <td>4.9</td>\n",
       "      <td>3.0</td>\n",
       "      <td>1.4</td>\n",
       "      <td>0.2</td>\n",
       "      <td>Iris-setosa</td>\n",
       "    </tr>\n",
       "    <tr>\n",
       "      <th>2</th>\n",
       "      <td>4.7</td>\n",
       "      <td>3.2</td>\n",
       "      <td>1.3</td>\n",
       "      <td>0.2</td>\n",
       "      <td>Iris-setosa</td>\n",
       "    </tr>\n",
       "    <tr>\n",
       "      <th>3</th>\n",
       "      <td>4.6</td>\n",
       "      <td>3.1</td>\n",
       "      <td>1.5</td>\n",
       "      <td>0.2</td>\n",
       "      <td>Iris-setosa</td>\n",
       "    </tr>\n",
       "    <tr>\n",
       "      <th>4</th>\n",
       "      <td>5.0</td>\n",
       "      <td>3.6</td>\n",
       "      <td>1.4</td>\n",
       "      <td>0.2</td>\n",
       "      <td>Iris-setosa</td>\n",
       "    </tr>\n",
       "  </tbody>\n",
       "</table>\n",
       "</div>"
      ],
      "text/plain": [
       "   slength  swidth  plength  pwidth      species\n",
       "0      5.1     3.5      1.4     0.2  Iris-setosa\n",
       "1      4.9     3.0      1.4     0.2  Iris-setosa\n",
       "2      4.7     3.2      1.3     0.2  Iris-setosa\n",
       "3      4.6     3.1      1.5     0.2  Iris-setosa\n",
       "4      5.0     3.6      1.4     0.2  Iris-setosa"
      ]
     },
     "execution_count": 2,
     "metadata": {},
     "output_type": "execute_result"
    }
   ],
   "source": [
    "url = \"https://archive.ics.uci.edu/ml/machine-learning-databases/iris/iris.data\"\n",
    "df = pd.read_csv(url,names=['slength','swidth','plength','pwidth','species'])\n",
    "df.head() # Print the first five rows"
   ]
  },
  {
   "cell_type": "markdown",
   "metadata": {
    "id": "Xjp1mGzaBN_g"
   },
   "source": [
    "Browse through all rows."
   ]
  },
  {
   "cell_type": "code",
   "execution_count": null,
   "metadata": {
    "id": "OJEk_yRoBN_g"
   },
   "outputs": [],
   "source": [
    "#pd.set_option('display.max_rows', 200)\n",
    "#df"
   ]
  },
  {
   "cell_type": "markdown",
   "metadata": {
    "id": "1uww2vBozF3N"
   },
   "source": [
    "## 1.1 Graphical Analyis\n",
    "### 1.1.1 Pie chart and bar plot (categorical variables)\n",
    "Pie charts are used to show proportions of a whole.\n",
    "\n",
    "We could, for example, ask ourselves, whether an equal number of specimens from each species have been examined.\n"
   ]
  },
  {
   "cell_type": "code",
   "execution_count": 3,
   "metadata": {
    "colab": {
     "base_uri": "https://localhost:8080/",
     "height": 423
    },
    "executionInfo": {
     "elapsed": 1108,
     "status": "ok",
     "timestamp": 1693126163286,
     "user": {
      "displayName": "Anja Mühlemann",
      "userId": "13180139022750424409"
     },
     "user_tz": -120
    },
    "id": "SyxSS1TAyiPI",
    "outputId": "d5371f31-d26c-4c33-ca9f-8407368e3204",
    "tags": []
   },
   "outputs": [
    {
     "data": {
      "text/plain": [
       "<Axes: >"
      ]
     },
     "execution_count": 3,
     "metadata": {},
     "output_type": "execute_result"
    },
    {
     "data": {
      "image/png": "[encoded data removed]",
      "text/plain": [
       "<Figure size 640x480 with 1 Axes>"
      ]
     },
     "metadata": {},
     "output_type": "display_data"
    }
   ],
   "source": [
    "df.groupby('species').size().plot(kind='pie', autopct='%1.1f%%' ,ylabel=\"\")"
   ]
  },
  {
   "cell_type": "code",
   "execution_count": 3,
   "metadata": {
    "colab": {
     "base_uri": "https://localhost:8080/",
     "height": 423
    },
    "executionInfo": {
     "elapsed": 1108,
     "status": "ok",
     "timestamp": 1693126163286,
     "user": {
      "displayName": "Anja Mühlemann",
      "userId": "13180139022750424409"
     },
     "user_tz": -120
    },
    "id": "SyxSS1TAyiPI",
    "outputId": "d5371f31-d26c-4c33-ca9f-8407368e3204",
    "tags": []
   },
   "outputs": [
    {
     "data": {
      "text/plain": [
       "<Axes: >"
      ]
     },
     "execution_count": 3,
     "metadata": {},
     "output_type": "execute_result"
    },
    {
     "data": {
      "image/png": "[encoded data removed]",
      "text/plain": [
       "<Figure size 640x480 with 1 Axes>"
      ]
     },
     "metadata": {},
     "output_type": "display_data"
    }
   ],
   "source": [
    "df.groupby('species').size().plot(kind='pie', autopct='%1.1f%%' ,ylabel=\"\")"
   ]
  },
  {
   "cell_type": "markdown",
   "metadata": {
    "id": "2vSVaaCeMQfW"
   },
   "source": [
    "The problem with pie charts is that if there are many groups we tend missinterpret the pie slices (https://www.data-to-viz.com/caveat/pie.html). Thus, it often is reasonable sense to use a barplot instead."
   ]
  },
  {
   "cell_type": "code",
   "execution_count": 7,
   "metadata": {
    "colab": {
     "base_uri": "https://localhost:8080/",
     "height": 447
    },
    "executionInfo": {
     "elapsed": 642,
     "status": "ok",
     "timestamp": 1693126292978,
     "user": {
      "displayName": "Anja Mühlemann",
      "userId": "13180139022750424409"
     },
     "user_tz": -120
    },
    "id": "pqal3Ss6Lm-4",
    "outputId": "bbadb695-f259-4fda-822c-68f8d6ad3064",
    "tags": []
   },
   "outputs": [
    {
     "data": {
      "text/plain": [
       "<Axes: >"
      ]
     },
     "execution_count": 7,
     "metadata": {},
     "output_type": "execute_result"
    },
    {
     "data": {
      "image/png": "[encoded data removed]",
      "text/plain": [
       "<Figure size 640x480 with 1 Axes>"
      ]
     },
     "metadata": {},
     "output_type": "display_data"
    }
   ],
   "source": [
    "df.groupby('species').size().plot(kind='barh' ,ylabel=\"\", color='blue')"
   ]
  },
  {
   "cell_type": "markdown",
   "metadata": {
    "id": "AXyM4d-GUgVU"
   },
   "source": [
    "## 1.1.2 Histogram (numerical variables)\n",
    "Histograms are used to display frequencies or proportions.\n",
    "\n",
    "For example, we could use an histogram to analyze different characteristics whitin the species *iris setosa*."
   ]
  },
  {
   "cell_type": "code",
   "execution_count": 8,
   "metadata": {
    "colab": {
     "base_uri": "https://localhost:8080/",
     "height": 382
    },
    "executionInfo": {
     "elapsed": 1736,
     "status": "ok",
     "timestamp": 1693126536393,
     "user": {
      "displayName": "Anja Mühlemann",
      "userId": "13180139022750424409"
     },
     "user_tz": -120
    },
    "id": "3asExU9jBN_n",
    "outputId": "4e331ee7-f4f8-4442-f077-f9defab26e9b",
    "tags": []
   },
   "outputs": [
    {
     "data": {
      "image/png": "[encoded data removed]",
      "text/plain": [
       "<Figure size 800x800 with 2 Axes>"
      ]
     },
     "metadata": {},
     "output_type": "display_data"
    }
   ],
   "source": [
    "df_setosa = df[df['species']=='Iris-setosa']\n",
    "\n",
    "plt.figure(figsize=(8  ,8))  #plt is matplotlib.pyplot abbreviation\n",
    "plt.subplot(2,2,1)\n",
    "df_setosa['slength'].plot(kind=\"hist\",fill=True,histtype='barstacked',title='Iris Setosa Setal', label=\"length\", color= 'tab:blue')\n",
    "ax_s = df_setosa['swidth'].plot(kind=\"hist\",fill=True,histtype='barstacked', label=\"width\",  color= 'tab:orange')\n",
    "ax_s.set_xlabel('x [cm]')\n",
    "ax_s.set_ylabel('absolute frequency')\n",
    "plt.legend()\n",
    "\n",
    "plt.subplot(2,2,2)\n",
    "df_setosa['plength'].plot(kind=\"hist\",fill=False,histtype='step',title='Iris Setosa Petal', label=\"length\")\n",
    "ax_s = df_setosa['pwidth'].plot(kind=\"hist\",fill=False,histtype='step', label=\"width\")\n",
    "ax_s.set_xlabel('x [cm]')\n",
    "ax_s.set_ylabel('absolute frequency')\n",
    "plt.legend()\n",
    "\n",
    "plt.show()"
   ]
  },
  {
   "cell_type": "markdown",
   "metadata": {
    "id": "9oS7mRrh7Aso"
   },
   "source": [
    "### 1.1.3 Scatter plot colored by species (simulatneous description)\n",
    "\n",
    "Scatter plots use dots to represent values for two different numeric variables.\n",
    "\n",
    "For example, we could look at the species and one of the numerical characteristics simulatneously."
   ]
  },
  {
   "cell_type": "code",
   "execution_count": 11,
   "metadata": {
    "colab": {
     "base_uri": "https://localhost:8080/",
     "height": 807
    },
    "executionInfo": {
     "elapsed": 1652,
     "status": "ok",
     "timestamp": 1693126941880,
     "user": {
      "displayName": "Anja Mühlemann",
      "userId": "13180139022750424409"
     },
     "user_tz": -120
    },
    "id": "Jo3ZQNgKUn90",
    "outputId": "7aaa1454-c3a8-4e7d-b1ed-62c1aa0ee67a",
    "tags": []
   },
   "outputs": [
    {
     "data": {
      "image/png": "[encoded data removed]",
      "text/plain": [
       "<Figure size 800x800 with 4 Axes>"
      ]
     },
     "metadata": {},
     "output_type": "display_data"
    }
   ],
   "source": [
    "color=np.repeat(np.array(['red', 'pink', 'purple']), [50, 50, 50], axis=0)\n",
    "df1=pd.DataFrame(dict(col=color))\n",
    "df2=pd.concat([df, df1], axis=1)\n",
    "\n",
    "plt.figure(figsize=(8  ,8))\n",
    "\n",
    "plt.subplot(2,2,1)\n",
    "plt.scatter(df2['species'], df2['slength'], c=df2['col'])\n",
    "plt.title('slength')\n",
    "plt.ylabel('slength')\n",
    "\n",
    "plt.subplot(2,2,3)\n",
    "plt.scatter(df2['species'], df2['plength'], c=df2['col'])\n",
    "plt.title('plength')\n",
    "plt.ylabel('plength')\n",
    "\n",
    "plt.subplot(2,2,2)\n",
    "plt.scatter(df2['species'], df2['swidth'], c=df2['col'])\n",
    "plt.title('swidth')\n",
    "plt.ylabel('swidth')\n",
    "\n",
    "plt.subplot(2,2,4)\n",
    "plt.scatter(df2['species'], df2['pwidth'], c=df2['col'])\n",
    "plt.title('pwidth')\n",
    "plt.ylabel('pwidth')\n",
    "\n",
    "plt.tight_layout(h_pad=2, w_pad=2)\n",
    "plt.show()"
   ]
  },
  {
   "cell_type": "markdown",
   "metadata": {
    "id": "Mph_PEaOw4ax"
   },
   "source": [
    "What can you see in this picture?"
   ]
  },
  {
   "cell_type": "markdown",
   "metadata": {
    "id": "vheKqfRkBN_h"
   },
   "source": [
    "# 1.2 Numerical analysis\n",
    "\n",
    "# 1.2.1 Location\n",
    "\n",
    "Location measures are used to describe typical values of a variable. Best known are the mean and the median.\n"
   ]
  },
  {
   "cell_type": "code",
   "execution_count": 12,
   "metadata": {
    "colab": {
     "base_uri": "https://localhost:8080/",
     "height": 175
    },
    "executionInfo": {
     "elapsed": 234,
     "status": "ok",
     "timestamp": 1693126950996,
     "user": {
      "displayName": "Anja Mühlemann",
      "userId": "13180139022750424409"
     },
     "user_tz": -120
    },
    "id": "xn3igNCgBN_i",
    "outputId": "0d167452-4ea0-45bc-a715-e6f25fe4a034",
    "scrolled": true,
    "tags": []
   },
   "outputs": [
    {
     "data": {
      "text/html": [
       "<div>\n",
       "<style scoped>\n",
       "    .dataframe tbody tr th:only-of-type {\n",
       "        vertical-align: middle;\n",
       "    }\n",
       "\n",
       "    .dataframe tbody tr th {\n",
       "        vertical-align: top;\n",
       "    }\n",
       "\n",
       "    .dataframe thead th {\n",
       "        text-align: right;\n",
       "    }\n",
       "</style>\n",
       "<table border=\"1\" class=\"dataframe\">\n",
       "  <thead>\n",
       "    <tr style=\"text-align: right;\">\n",
       "      <th></th>\n",
       "      <th>slength</th>\n",
       "      <th>swidth</th>\n",
       "      <th>plength</th>\n",
       "      <th>pwidth</th>\n",
       "    </tr>\n",
       "    <tr>\n",
       "      <th>species</th>\n",
       "      <th></th>\n",
       "      <th></th>\n",
       "      <th></th>\n",
       "      <th></th>\n",
       "    </tr>\n",
       "  </thead>\n",
       "  <tbody>\n",
       "    <tr>\n",
       "      <th>Iris-setosa</th>\n",
       "      <td>5.006</td>\n",
       "      <td>3.418</td>\n",
       "      <td>1.464</td>\n",
       "      <td>0.244</td>\n",
       "    </tr>\n",
       "    <tr>\n",
       "      <th>Iris-versicolor</th>\n",
       "      <td>5.936</td>\n",
       "      <td>2.770</td>\n",
       "      <td>4.260</td>\n",
       "      <td>1.326</td>\n",
       "    </tr>\n",
       "    <tr>\n",
       "      <th>Iris-virginica</th>\n",
       "      <td>6.588</td>\n",
       "      <td>2.974</td>\n",
       "      <td>5.552</td>\n",
       "      <td>2.026</td>\n",
       "    </tr>\n",
       "  </tbody>\n",
       "</table>\n",
       "</div>"
      ],
      "text/plain": [
       "                 slength  swidth  plength  pwidth\n",
       "species                                          \n",
       "Iris-setosa        5.006   3.418    1.464   0.244\n",
       "Iris-versicolor    5.936   2.770    4.260   1.326\n",
       "Iris-virginica     6.588   2.974    5.552   2.026"
      ]
     },
     "execution_count": 12,
     "metadata": {},
     "output_type": "execute_result"
    }
   ],
   "source": [
    "grouped_df = df.groupby(\"species\") # group by species, so we get means for all species seperately\n",
    "grouped_df.mean()"
   ]
  },
  {
   "cell_type": "code",
   "execution_count": 13,
   "metadata": {
    "colab": {
     "base_uri": "https://localhost:8080/",
     "height": 175
    },
    "executionInfo": {
     "elapsed": 240,
     "status": "ok",
     "timestamp": 1693126955070,
     "user": {
      "displayName": "Anja Mühlemann",
      "userId": "13180139022750424409"
     },
     "user_tz": -120
    },
    "id": "hN0LAK8BBN_i",
    "outputId": "bbdd3512-20bc-4313-ce4d-b09080017411",
    "tags": []
   },
   "outputs": [
    {
     "data": {
      "text/html": [
       "<div>\n",
       "<style scoped>\n",
       "    .dataframe tbody tr th:only-of-type {\n",
       "        vertical-align: middle;\n",
       "    }\n",
       "\n",
       "    .dataframe tbody tr th {\n",
       "        vertical-align: top;\n",
       "    }\n",
       "\n",
       "    .dataframe thead th {\n",
       "        text-align: right;\n",
       "    }\n",
       "</style>\n",
       "<table border=\"1\" class=\"dataframe\">\n",
       "  <thead>\n",
       "    <tr style=\"text-align: right;\">\n",
       "      <th></th>\n",
       "      <th>slength</th>\n",
       "      <th>swidth</th>\n",
       "      <th>plength</th>\n",
       "      <th>pwidth</th>\n",
       "    </tr>\n",
       "    <tr>\n",
       "      <th>species</th>\n",
       "      <th></th>\n",
       "      <th></th>\n",
       "      <th></th>\n",
       "      <th></th>\n",
       "    </tr>\n",
       "  </thead>\n",
       "  <tbody>\n",
       "    <tr>\n",
       "      <th>Iris-setosa</th>\n",
       "      <td>5.0</td>\n",
       "      <td>3.4</td>\n",
       "      <td>1.50</td>\n",
       "      <td>0.2</td>\n",
       "    </tr>\n",
       "    <tr>\n",
       "      <th>Iris-versicolor</th>\n",
       "      <td>5.9</td>\n",
       "      <td>2.8</td>\n",
       "      <td>4.35</td>\n",
       "      <td>1.3</td>\n",
       "    </tr>\n",
       "    <tr>\n",
       "      <th>Iris-virginica</th>\n",
       "      <td>6.5</td>\n",
       "      <td>3.0</td>\n",
       "      <td>5.55</td>\n",
       "      <td>2.0</td>\n",
       "    </tr>\n",
       "  </tbody>\n",
       "</table>\n",
       "</div>"
      ],
      "text/plain": [
       "                 slength  swidth  plength  pwidth\n",
       "species                                          \n",
       "Iris-setosa          5.0     3.4     1.50     0.2\n",
       "Iris-versicolor      5.9     2.8     4.35     1.3\n",
       "Iris-virginica       6.5     3.0     5.55     2.0"
      ]
     },
     "execution_count": 13,
     "metadata": {},
     "output_type": "execute_result"
    }
   ],
   "source": [
    "grouped_df.median()"
   ]
  },
  {
   "cell_type": "markdown",
   "metadata": {
    "id": "ps0oDi4jBN_i"
   },
   "source": [
    "Do the means and medians support your observations from the pictures?\n",
    "\n",
    "## 1.2.2 Spread\n",
    "\n",
    "Typical values are interesting but sometimes more information is needed. It is for example also of interest to see how spead the values are. Typical measures for the spread are the variance, standard deviation, inter quartile range, etc.\n"
   ]
  },
  {
   "cell_type": "code",
   "execution_count": 14,
   "metadata": {
    "colab": {
     "base_uri": "https://localhost:8080/",
     "height": 175
    },
    "executionInfo": {
     "elapsed": 263,
     "status": "ok",
     "timestamp": 1693126959071,
     "user": {
      "displayName": "Anja Mühlemann",
      "userId": "13180139022750424409"
     },
     "user_tz": -120
    },
    "id": "t4S8mY8NBN_j",
    "outputId": "728c1a25-b65d-4f34-dc99-7e1415bfd213",
    "tags": []
   },
   "outputs": [
    {
     "data": {
      "text/html": [
       "<div>\n",
       "<style scoped>\n",
       "    .dataframe tbody tr th:only-of-type {\n",
       "        vertical-align: middle;\n",
       "    }\n",
       "\n",
       "    .dataframe tbody tr th {\n",
       "        vertical-align: top;\n",
       "    }\n",
       "\n",
       "    .dataframe thead th {\n",
       "        text-align: right;\n",
       "    }\n",
       "</style>\n",
       "<table border=\"1\" class=\"dataframe\">\n",
       "  <thead>\n",
       "    <tr style=\"text-align: right;\">\n",
       "      <th></th>\n",
       "      <th>slength</th>\n",
       "      <th>swidth</th>\n",
       "      <th>plength</th>\n",
       "      <th>pwidth</th>\n",
       "    </tr>\n",
       "    <tr>\n",
       "      <th>species</th>\n",
       "      <th></th>\n",
       "      <th></th>\n",
       "      <th></th>\n",
       "      <th></th>\n",
       "    </tr>\n",
       "  </thead>\n",
       "  <tbody>\n",
       "    <tr>\n",
       "      <th>Iris-setosa</th>\n",
       "      <td>0.352490</td>\n",
       "      <td>0.381024</td>\n",
       "      <td>0.173511</td>\n",
       "      <td>0.107210</td>\n",
       "    </tr>\n",
       "    <tr>\n",
       "      <th>Iris-versicolor</th>\n",
       "      <td>0.516171</td>\n",
       "      <td>0.313798</td>\n",
       "      <td>0.469911</td>\n",
       "      <td>0.197753</td>\n",
       "    </tr>\n",
       "    <tr>\n",
       "      <th>Iris-virginica</th>\n",
       "      <td>0.635880</td>\n",
       "      <td>0.322497</td>\n",
       "      <td>0.551895</td>\n",
       "      <td>0.274650</td>\n",
       "    </tr>\n",
       "  </tbody>\n",
       "</table>\n",
       "</div>"
      ],
      "text/plain": [
       "                  slength    swidth   plength    pwidth\n",
       "species                                                \n",
       "Iris-setosa      0.352490  0.381024  0.173511  0.107210\n",
       "Iris-versicolor  0.516171  0.313798  0.469911  0.197753\n",
       "Iris-virginica   0.635880  0.322497  0.551895  0.274650"
      ]
     },
     "execution_count": 14,
     "metadata": {},
     "output_type": "execute_result"
    }
   ],
   "source": [
    "grouped_df.std()"
   ]
  },
  {
   "cell_type": "markdown",
   "metadata": {
    "id": "hDUlAN3FBN_j"
   },
   "source": [
    "Which characteristic has the largest standard deviation? What is the definition of the standard deviation? ANSW: plenght and slenght\n",
    "\n",
    "We can also look at the IQR."
   ]
  },
  {
   "cell_type": "code",
   "execution_count": 15,
   "metadata": {
    "colab": {
     "base_uri": "https://localhost:8080/"
    },
    "executionInfo": {
     "elapsed": 240,
     "status": "ok",
     "timestamp": 1693126964589,
     "user": {
      "displayName": "Anja Mühlemann",
      "userId": "13180139022750424409"
     },
     "user_tz": -120
    },
    "id": "xvXWq9WeBN_l",
    "outputId": "f417594e-c065-40ab-f455-6cf6e81dda82",
    "tags": []
   },
   "outputs": [
    {
     "data": {
      "text/plain": [
       "species\n",
       "Iris-setosa        0.175\n",
       "Iris-versicolor    0.600\n",
       "Iris-virginica     0.775\n",
       "Name: plength, dtype: float64"
      ]
     },
     "execution_count": 15,
     "metadata": {},
     "output_type": "execute_result"
    }
   ],
   "source": [
    "#define function to calculate interquartile range\n",
    "def find_iqr(x):\n",
    "  return np.subtract(*np.percentile(x, [75, 25]))\n",
    "# calculate IDR for plength for each species\n",
    "grouped_df['plength'].apply(find_iqr)\n",
    "#grouped_df['plength'].quantile(0.75)-grouped_df['plength'].quantile(0.25)\n"
   ]
  },
  {
   "cell_type": "markdown",
   "metadata": {
    "id": "yeR9yrw7BN_l"
   },
   "source": [
    "Compare the standard deviation of plength with its IQR.\n",
    "(Information on the *-operator: https://treyhunner.com/2018/10/asterisks-in-python-what-they-are-and-how-to-use-them/)\n",
    "\n"
   ]
  },
  {
   "cell_type": "markdown",
   "metadata": {
    "id": "p_pKE9fRBN_k"
   },
   "source": [
    "Alternatively, one can also get most of those measures with a single command:"
   ]
  },
  {
   "cell_type": "code",
   "execution_count": 16,
   "metadata": {
    "colab": {
     "base_uri": "https://localhost:8080/",
     "height": 236
    },
    "executionInfo": {
     "elapsed": 227,
     "status": "ok",
     "timestamp": 1693127008364,
     "user": {
      "displayName": "Anja Mühlemann",
      "userId": "13180139022750424409"
     },
     "user_tz": -120
    },
    "id": "hhJHnOl1BN_k",
    "outputId": "2cea526a-3c03-4444-acf9-c89689ab68f4",
    "tags": []
   },
   "outputs": [
    {
     "data": {
      "text/html": [
       "<div>\n",
       "<style scoped>\n",
       "    .dataframe tbody tr th:only-of-type {\n",
       "        vertical-align: middle;\n",
       "    }\n",
       "\n",
       "    .dataframe tbody tr th {\n",
       "        vertical-align: top;\n",
       "    }\n",
       "\n",
       "    .dataframe thead tr th {\n",
       "        text-align: left;\n",
       "    }\n",
       "\n",
       "    .dataframe thead tr:last-of-type th {\n",
       "        text-align: right;\n",
       "    }\n",
       "</style>\n",
       "<table border=\"1\" class=\"dataframe\">\n",
       "  <thead>\n",
       "    <tr>\n",
       "      <th></th>\n",
       "      <th colspan=\"8\" halign=\"left\">slength</th>\n",
       "      <th colspan=\"2\" halign=\"left\">swidth</th>\n",
       "      <th>...</th>\n",
       "      <th colspan=\"2\" halign=\"left\">plength</th>\n",
       "      <th colspan=\"8\" halign=\"left\">pwidth</th>\n",
       "    </tr>\n",
       "    <tr>\n",
       "      <th></th>\n",
       "      <th>count</th>\n",
       "      <th>mean</th>\n",
       "      <th>std</th>\n",
       "      <th>min</th>\n",
       "      <th>25%</th>\n",
       "      <th>50%</th>\n",
       "      <th>75%</th>\n",
       "      <th>max</th>\n",
       "      <th>count</th>\n",
       "      <th>mean</th>\n",
       "      <th>...</th>\n",
       "      <th>75%</th>\n",
       "      <th>max</th>\n",
       "      <th>count</th>\n",
       "      <th>mean</th>\n",
       "      <th>std</th>\n",
       "      <th>min</th>\n",
       "      <th>25%</th>\n",
       "      <th>50%</th>\n",
       "      <th>75%</th>\n",
       "      <th>max</th>\n",
       "    </tr>\n",
       "    <tr>\n",
       "      <th>species</th>\n",
       "      <th></th>\n",
       "      <th></th>\n",
       "      <th></th>\n",
       "      <th></th>\n",
       "      <th></th>\n",
       "      <th></th>\n",
       "      <th></th>\n",
       "      <th></th>\n",
       "      <th></th>\n",
       "      <th></th>\n",
       "      <th></th>\n",
       "      <th></th>\n",
       "      <th></th>\n",
       "      <th></th>\n",
       "      <th></th>\n",
       "      <th></th>\n",
       "      <th></th>\n",
       "      <th></th>\n",
       "      <th></th>\n",
       "      <th></th>\n",
       "      <th></th>\n",
       "    </tr>\n",
       "  </thead>\n",
       "  <tbody>\n",
       "    <tr>\n",
       "      <th>Iris-setosa</th>\n",
       "      <td>50.0</td>\n",
       "      <td>5.006</td>\n",
       "      <td>0.352490</td>\n",
       "      <td>4.3</td>\n",
       "      <td>4.800</td>\n",
       "      <td>5.0</td>\n",
       "      <td>5.2</td>\n",
       "      <td>5.8</td>\n",
       "      <td>50.0</td>\n",
       "      <td>3.418</td>\n",
       "      <td>...</td>\n",
       "      <td>1.575</td>\n",
       "      <td>1.9</td>\n",
       "      <td>50.0</td>\n",
       "      <td>0.244</td>\n",
       "      <td>0.107210</td>\n",
       "      <td>0.1</td>\n",
       "      <td>0.2</td>\n",
       "      <td>0.2</td>\n",
       "      <td>0.3</td>\n",
       "      <td>0.6</td>\n",
       "    </tr>\n",
       "    <tr>\n",
       "      <th>Iris-versicolor</th>\n",
       "      <td>50.0</td>\n",
       "      <td>5.936</td>\n",
       "      <td>0.516171</td>\n",
       "      <td>4.9</td>\n",
       "      <td>5.600</td>\n",
       "      <td>5.9</td>\n",
       "      <td>6.3</td>\n",
       "      <td>7.0</td>\n",
       "      <td>50.0</td>\n",
       "      <td>2.770</td>\n",
       "      <td>...</td>\n",
       "      <td>4.600</td>\n",
       "      <td>5.1</td>\n",
       "      <td>50.0</td>\n",
       "      <td>1.326</td>\n",
       "      <td>0.197753</td>\n",
       "      <td>1.0</td>\n",
       "      <td>1.2</td>\n",
       "      <td>1.3</td>\n",
       "      <td>1.5</td>\n",
       "      <td>1.8</td>\n",
       "    </tr>\n",
       "    <tr>\n",
       "      <th>Iris-virginica</th>\n",
       "      <td>50.0</td>\n",
       "      <td>6.588</td>\n",
       "      <td>0.635880</td>\n",
       "      <td>4.9</td>\n",
       "      <td>6.225</td>\n",
       "      <td>6.5</td>\n",
       "      <td>6.9</td>\n",
       "      <td>7.9</td>\n",
       "      <td>50.0</td>\n",
       "      <td>2.974</td>\n",
       "      <td>...</td>\n",
       "      <td>5.875</td>\n",
       "      <td>6.9</td>\n",
       "      <td>50.0</td>\n",
       "      <td>2.026</td>\n",
       "      <td>0.274650</td>\n",
       "      <td>1.4</td>\n",
       "      <td>1.8</td>\n",
       "      <td>2.0</td>\n",
       "      <td>2.3</td>\n",
       "      <td>2.5</td>\n",
       "    </tr>\n",
       "  </tbody>\n",
       "</table>\n",
       "<p>3 rows × 32 columns</p>\n",
       "</div>"
      ],
      "text/plain": [
       "                slength                                             swidth  \\\n",
       "                  count   mean       std  min    25%  50%  75%  max  count   \n",
       "species                                                                      \n",
       "Iris-setosa        50.0  5.006  0.352490  4.3  4.800  5.0  5.2  5.8   50.0   \n",
       "Iris-versicolor    50.0  5.936  0.516171  4.9  5.600  5.9  6.3  7.0   50.0   \n",
       "Iris-virginica     50.0  6.588  0.635880  4.9  6.225  6.5  6.9  7.9   50.0   \n",
       "\n",
       "                        ... plength      pwidth                             \\\n",
       "                  mean  ...     75%  max  count   mean       std  min  25%   \n",
       "species                 ...                                                  \n",
       "Iris-setosa      3.418  ...   1.575  1.9   50.0  0.244  0.107210  0.1  0.2   \n",
       "Iris-versicolor  2.770  ...   4.600  5.1   50.0  1.326  0.197753  1.0  1.2   \n",
       "Iris-virginica   2.974  ...   5.875  6.9   50.0  2.026  0.274650  1.4  1.8   \n",
       "\n",
       "                                \n",
       "                 50%  75%  max  \n",
       "species                         \n",
       "Iris-setosa      0.2  0.3  0.6  \n",
       "Iris-versicolor  1.3  1.5  1.8  \n",
       "Iris-virginica   2.0  2.3  2.5  \n",
       "\n",
       "[3 rows x 32 columns]"
      ]
     },
     "execution_count": 16,
     "metadata": {},
     "output_type": "execute_result"
    }
   ],
   "source": [
    "grouped_df.describe()"
   ]
  },
  {
   "cell_type": "markdown",
   "metadata": {
    "id": "qpMNEry6ygJe"
   },
   "source": [
    "However, this output is not very comprehensible. Here it makes more sense to consider only one species for the summary:"
   ]
  },
  {
   "cell_type": "code",
   "execution_count": 17,
   "metadata": {
    "colab": {
     "base_uri": "https://localhost:8080/",
     "height": 300
    },
    "executionInfo": {
     "elapsed": 35,
     "status": "ok",
     "timestamp": 1692797740763,
     "user": {
      "displayName": "Anja Mühlemann",
      "userId": "13180139022750424409"
     },
     "user_tz": -120
    },
    "id": "gHiuAviVy2g9",
    "outputId": "0674242f-2d46-42bb-9807-a1836dcf6ba4",
    "tags": []
   },
   "outputs": [
    {
     "data": {
      "text/html": [
       "<div>\n",
       "<style scoped>\n",
       "    .dataframe tbody tr th:only-of-type {\n",
       "        vertical-align: middle;\n",
       "    }\n",
       "\n",
       "    .dataframe tbody tr th {\n",
       "        vertical-align: top;\n",
       "    }\n",
       "\n",
       "    .dataframe thead th {\n",
       "        text-align: right;\n",
       "    }\n",
       "</style>\n",
       "<table border=\"1\" class=\"dataframe\">\n",
       "  <thead>\n",
       "    <tr style=\"text-align: right;\">\n",
       "      <th></th>\n",
       "      <th>slength</th>\n",
       "      <th>swidth</th>\n",
       "      <th>plength</th>\n",
       "      <th>pwidth</th>\n",
       "    </tr>\n",
       "  </thead>\n",
       "  <tbody>\n",
       "    <tr>\n",
       "      <th>count</th>\n",
       "      <td>50.00000</td>\n",
       "      <td>50.000000</td>\n",
       "      <td>50.000000</td>\n",
       "      <td>50.00000</td>\n",
       "    </tr>\n",
       "    <tr>\n",
       "      <th>mean</th>\n",
       "      <td>5.00600</td>\n",
       "      <td>3.418000</td>\n",
       "      <td>1.464000</td>\n",
       "      <td>0.24400</td>\n",
       "    </tr>\n",
       "    <tr>\n",
       "      <th>std</th>\n",
       "      <td>0.35249</td>\n",
       "      <td>0.381024</td>\n",
       "      <td>0.173511</td>\n",
       "      <td>0.10721</td>\n",
       "    </tr>\n",
       "    <tr>\n",
       "      <th>min</th>\n",
       "      <td>4.30000</td>\n",
       "      <td>2.300000</td>\n",
       "      <td>1.000000</td>\n",
       "      <td>0.10000</td>\n",
       "    </tr>\n",
       "    <tr>\n",
       "      <th>25%</th>\n",
       "      <td>4.80000</td>\n",
       "      <td>3.125000</td>\n",
       "      <td>1.400000</td>\n",
       "      <td>0.20000</td>\n",
       "    </tr>\n",
       "    <tr>\n",
       "      <th>50%</th>\n",
       "      <td>5.00000</td>\n",
       "      <td>3.400000</td>\n",
       "      <td>1.500000</td>\n",
       "      <td>0.20000</td>\n",
       "    </tr>\n",
       "    <tr>\n",
       "      <th>75%</th>\n",
       "      <td>5.20000</td>\n",
       "      <td>3.675000</td>\n",
       "      <td>1.575000</td>\n",
       "      <td>0.30000</td>\n",
       "    </tr>\n",
       "    <tr>\n",
       "      <th>max</th>\n",
       "      <td>5.80000</td>\n",
       "      <td>4.400000</td>\n",
       "      <td>1.900000</td>\n",
       "      <td>0.60000</td>\n",
       "    </tr>\n",
       "  </tbody>\n",
       "</table>\n",
       "</div>"
      ],
      "text/plain": [
       "        slength     swidth    plength    pwidth\n",
       "count  50.00000  50.000000  50.000000  50.00000\n",
       "mean    5.00600   3.418000   1.464000   0.24400\n",
       "std     0.35249   0.381024   0.173511   0.10721\n",
       "min     4.30000   2.300000   1.000000   0.10000\n",
       "25%     4.80000   3.125000   1.400000   0.20000\n",
       "50%     5.00000   3.400000   1.500000   0.20000\n",
       "75%     5.20000   3.675000   1.575000   0.30000\n",
       "max     5.80000   4.400000   1.900000   0.60000"
      ]
     },
     "execution_count": 17,
     "metadata": {},
     "output_type": "execute_result"
    }
   ],
   "source": [
    "df[df['species']=='Iris-setosa'].describe()"
   ]
  },
  {
   "cell_type": "markdown",
   "metadata": {
    "id": "Wdix4VdpBN_k"
   },
   "source": [
    "Do all these digits after the comma make sense?"
   ]
  },
  {
   "cell_type": "markdown",
   "metadata": {
    "id": "PHpxH8YXBN_l"
   },
   "source": [
    "## 1.2.3 Shape\n",
    "\n",
    "Another measure that is often looked at is the shape of the distribution. The mostly used measures are the skewness and the kurtosis."
   ]
  },
  {
   "cell_type": "code",
   "execution_count": 18,
   "metadata": {
    "colab": {
     "base_uri": "https://localhost:8080/",
     "height": 175
    },
    "executionInfo": {
     "elapsed": 31,
     "status": "ok",
     "timestamp": 1692797740763,
     "user": {
      "displayName": "Anja Mühlemann",
      "userId": "13180139022750424409"
     },
     "user_tz": -120
    },
    "id": "pnAT-C8LBN_m",
    "outputId": "734936e7-a66c-4711-949d-6e3a9e2da964",
    "tags": []
   },
   "outputs": [
    {
     "data": {
      "text/html": [
       "<div>\n",
       "<style scoped>\n",
       "    .dataframe tbody tr th:only-of-type {\n",
       "        vertical-align: middle;\n",
       "    }\n",
       "\n",
       "    .dataframe tbody tr th {\n",
       "        vertical-align: top;\n",
       "    }\n",
       "\n",
       "    .dataframe thead th {\n",
       "        text-align: right;\n",
       "    }\n",
       "</style>\n",
       "<table border=\"1\" class=\"dataframe\">\n",
       "  <thead>\n",
       "    <tr style=\"text-align: right;\">\n",
       "      <th></th>\n",
       "      <th>slength</th>\n",
       "      <th>swidth</th>\n",
       "      <th>plength</th>\n",
       "      <th>pwidth</th>\n",
       "    </tr>\n",
       "    <tr>\n",
       "      <th>species</th>\n",
       "      <th></th>\n",
       "      <th></th>\n",
       "      <th></th>\n",
       "      <th></th>\n",
       "    </tr>\n",
       "  </thead>\n",
       "  <tbody>\n",
       "    <tr>\n",
       "      <th>Iris-setosa</th>\n",
       "      <td>0.120087</td>\n",
       "      <td>0.107053</td>\n",
       "      <td>0.071846</td>\n",
       "      <td>1.197243</td>\n",
       "    </tr>\n",
       "    <tr>\n",
       "      <th>Iris-versicolor</th>\n",
       "      <td>0.105378</td>\n",
       "      <td>-0.362845</td>\n",
       "      <td>-0.606508</td>\n",
       "      <td>-0.031180</td>\n",
       "    </tr>\n",
       "    <tr>\n",
       "      <th>Iris-virginica</th>\n",
       "      <td>0.118015</td>\n",
       "      <td>0.365949</td>\n",
       "      <td>0.549445</td>\n",
       "      <td>-0.129477</td>\n",
       "    </tr>\n",
       "  </tbody>\n",
       "</table>\n",
       "</div>"
      ],
      "text/plain": [
       "                  slength    swidth   plength    pwidth\n",
       "species                                                \n",
       "Iris-setosa      0.120087  0.107053  0.071846  1.197243\n",
       "Iris-versicolor  0.105378 -0.362845 -0.606508 -0.031180\n",
       "Iris-virginica   0.118015  0.365949  0.549445 -0.129477"
      ]
     },
     "execution_count": 18,
     "metadata": {},
     "output_type": "execute_result"
    }
   ],
   "source": [
    "grouped_df.skew()"
   ]
  },
  {
   "cell_type": "markdown",
   "metadata": {
    "id": "Am0fE2_lZJCC"
   },
   "source": [
    "The skewness of *iris setosa* is $>0$ for all characteristics. What does that mean?"
   ]
  },
  {
   "cell_type": "markdown",
   "metadata": {
    "id": "ESSMUOTzzNRJ"
   },
   "source": [
    "Now let us look at the kurtosis."
   ]
  },
  {
   "cell_type": "code",
   "execution_count": 21,
   "metadata": {
    "colab": {
     "base_uri": "https://localhost:8080/",
     "height": 175
    },
    "executionInfo": {
     "elapsed": 237,
     "status": "ok",
     "timestamp": 1693127123758,
     "user": {
      "displayName": "Anja Mühlemann",
      "userId": "13180139022750424409"
     },
     "user_tz": -120
    },
    "id": "nSsgKpEQBN_m",
    "outputId": "223e87a7-eb32-4f5f-90fc-afb5f8b2c1b2",
    "tags": []
   },
   "outputs": [
    {
     "data": {
      "text/html": [
       "<div>\n",
       "<style scoped>\n",
       "    .dataframe tbody tr th:only-of-type {\n",
       "        vertical-align: middle;\n",
       "    }\n",
       "\n",
       "    .dataframe tbody tr th {\n",
       "        vertical-align: top;\n",
       "    }\n",
       "\n",
       "    .dataframe thead th {\n",
       "        text-align: right;\n",
       "    }\n",
       "</style>\n",
       "<table border=\"1\" class=\"dataframe\">\n",
       "  <thead>\n",
       "    <tr style=\"text-align: right;\">\n",
       "      <th></th>\n",
       "      <th>slength</th>\n",
       "      <th>swidth</th>\n",
       "      <th>plength</th>\n",
       "      <th>pwidth</th>\n",
       "    </tr>\n",
       "    <tr>\n",
       "      <th>species</th>\n",
       "      <th></th>\n",
       "      <th></th>\n",
       "      <th></th>\n",
       "      <th></th>\n",
       "    </tr>\n",
       "  </thead>\n",
       "  <tbody>\n",
       "    <tr>\n",
       "      <th>Iris-setosa</th>\n",
       "      <td>-0.252689</td>\n",
       "      <td>0.889251</td>\n",
       "      <td>1.031626</td>\n",
       "      <td>1.566442</td>\n",
       "    </tr>\n",
       "    <tr>\n",
       "      <th>Iris-versicolor</th>\n",
       "      <td>-0.533010</td>\n",
       "      <td>-0.366237</td>\n",
       "      <td>0.047903</td>\n",
       "      <td>-0.410059</td>\n",
       "    </tr>\n",
       "    <tr>\n",
       "      <th>Iris-virginica</th>\n",
       "      <td>0.032904</td>\n",
       "      <td>0.706071</td>\n",
       "      <td>-0.153779</td>\n",
       "      <td>-0.602264</td>\n",
       "    </tr>\n",
       "  </tbody>\n",
       "</table>\n",
       "</div>"
      ],
      "text/plain": [
       "                  slength    swidth   plength    pwidth\n",
       "species                                                \n",
       "Iris-setosa     -0.252689  0.889251  1.031626  1.566442\n",
       "Iris-versicolor -0.533010 -0.366237  0.047903 -0.410059\n",
       "Iris-virginica   0.032904  0.706071 -0.153779 -0.602264"
      ]
     },
     "execution_count": 21,
     "metadata": {},
     "output_type": "execute_result"
    }
   ],
   "source": [
    "grouped_df.apply(pd.DataFrame.kurt, numeric_only=True)"
   ]
  },
  {
   "cell_type": "markdown",
   "metadata": {
    "id": "M5F_R7A-Zebi"
   },
   "source": [
    "The idea behind the kurtosis is the following:\n",
    "Some numerical characteristics, when the sample size is large and the intervals are small, result in a histogram that resembles a Gaussian bell curve. In this case, the value of the kurtosis is close to zero. If the tails are heavier than you would expect for a Gaussian distribution the kurtosis will be substantially positive. If the tails are less heavy than you would expect for a Gaussian distribution the kurtosis will be negative.\n"
   ]
  },
  {
   "cell_type": "markdown",
   "metadata": {
    "id": "KcdP5k5p3ml2"
   },
   "source": [
    "## 1.7 Outlook\n",
    "The characteristic *slength* from of the species *iris virginica* has a kurtosis close to zero. Moreover, its skewness is close to 0. Therefore, a Gaussian model would probably be suitable. To get an idea whether this is plausible let us  compare the histogram to the Gaussian density function.\n",
    "\n",
    "When looking at hypothesis testing, we will see how to test this mathematically.\n",
    "\n",
    "Our model is a normal distribution with the mean and width taken from the dataset: **norm.pdf(x,mean,width)**."
   ]
  },
  {
   "cell_type": "code",
   "execution_count": 22,
   "metadata": {
    "colab": {
     "base_uri": "https://localhost:8080/",
     "height": 469
    },
    "executionInfo": {
     "elapsed": 750,
     "status": "ok",
     "timestamp": 1693127231011,
     "user": {
      "displayName": "Anja Mühlemann",
      "userId": "13180139022750424409"
     },
     "user_tz": -120
    },
    "id": "QrOQY6ubBN_p",
    "outputId": "1f2f3135-0aec-4fcd-baee-0a57a42edb43",
    "tags": []
   },
   "outputs": [
    {
     "name": "stdout",
     "output_type": "stream",
     "text": [
      "6.587999999999998 0.635879593274432\n"
     ]
    },
    {
     "data": {
      "image/png": "[encoded data removed]",
      "text/plain": [
       "<Figure size 640x480 with 1 Axes>"
      ]
     },
     "metadata": {},
     "output_type": "display_data"
    }
   ],
   "source": [
    "df_virginica=df[df['species']=='Iris-virginica']\n",
    "from scipy.stats import norm\n",
    "mean  = df_virginica['slength'].mean()\n",
    "width = df_virginica['slength'].std()\n",
    "print(mean,width)\n",
    "# Create figure and axis\n",
    "fig, ax = plt.subplots(1,1)\n",
    "# Create 100 x values and plot the normal pdf for these values\n",
    "#x = np.linspace(norm.ppf(0.01),norm.ppf(0.99), 100)\n",
    "x = np.linspace(4,10,80)   #np.linspace(start, stop, num=n, ...)\n",
    "ax.plot(x, norm.pdf(x,mean,width),'b-', lw=2, label='Normed pdf')   #pdf probability density function\n",
    "df_virginica['slength'].plot(kind=\"hist\",fill=False,histtype='step',title='Iris Virginica Setal', label=\"length\", density=\"True\")\n",
    "ax.legend(loc='best', frameon=False)\n",
    "plt.show()"
   ]
  },
  {
   "cell_type": "markdown",
   "metadata": {
    "id": "P0J0aiMiBN_p"
   },
   "source": [
    "With this model we could now do a lot of inference. Taking a random leave, one could for example test how likely it is to be Iris Viginica.\n"
   ]
  },
  {
   "cell_type": "markdown",
   "metadata": {
    "id": "HWZjciel5AUV"
   },
   "source": [
    "# 2. Simultaneous Description of two Features"
   ]
  },
  {
   "cell_type": "markdown",
   "metadata": {
    "id": "TOGNGrrA54CW"
   },
   "source": [
    "In the first part of this notebook, we only looked at individual characteristics. For example, we calculated the mean *slength* of *iris setosa*. Of course, we did this simultaneously for all characteristics and species, but we never compared two characteristics directly. That is what we would like to do now."
   ]
  },
  {
   "cell_type": "markdown",
   "metadata": {
    "id": "T7WYGeJT59j6"
   },
   "source": [
    "## 2.1 Graphical Analysis\n",
    "\n",
    "### 2.1.1 Boxplots\n",
    "\n",
    "A boxplot is a graphical display of the minimum, maximum, and the 3 quartiles.\n",
    "For example, could we display distributions of *slength* for the 3 species.\n"
   ]
  },
  {
   "cell_type": "code",
   "execution_count": 23,
   "metadata": {
    "colab": {
     "base_uri": "https://localhost:8080/",
     "height": 469
    },
    "executionInfo": {
     "elapsed": 520,
     "status": "ok",
     "timestamp": 1692797741268,
     "user": {
      "displayName": "Anja Mühlemann",
      "userId": "13180139022750424409"
     },
     "user_tz": -120
    },
    "id": "HmXZmvCS5mTT",
    "outputId": "32a04e86-7c4a-4332-af05-70480b5accd6",
    "tags": []
   },
   "outputs": [
    {
     "data": {
      "text/plain": [
       "Text(0.5, 1.0, 'slength')"
      ]
     },
     "execution_count": 23,
     "metadata": {},
     "output_type": "execute_result"
    },
    {
     "data": {
      "image/png": "[encoded data removed]",
      "text/plain": [
       "<Figure size 640x480 with 1 Axes>"
      ]
     },
     "metadata": {},
     "output_type": "display_data"
    }
   ],
   "source": [
    "df_slength=df[['slength', 'species']]\n",
    "fig, ax = plt.subplots(1,1)\n",
    "df_slength.pivot(columns='species', values='slength').boxplot()\n",
    "ax.set_title('slength')\n"
   ]
  },
  {
   "cell_type": "markdown",
   "metadata": {
    "id": "qXmVK39e5nJs"
   },
   "source": [
    "### 2.1.2 Scatter matrix\n",
    "\n",
    "Now let us see whether some of the features correlate. To this end, we look at the scatter plots of the different characterisics for *iris setosa*."
   ]
  },
  {
   "cell_type": "code",
   "execution_count": null,
   "metadata": {
    "colab": {
     "base_uri": "https://localhost:8080/",
     "height": 553
    },
    "executionInfo": {
     "elapsed": 1175,
     "status": "ok",
     "timestamp": 1692797742438,
     "user": {
      "displayName": "Anja Mühlemann",
      "userId": "13180139022750424409"
     },
     "user_tz": -120
    },
    "id": "Ga4qdeOyBN_o",
    "outputId": "3762dde7-7a7d-411f-8ab8-b23bad3d435f"
   },
   "outputs": [
    {
     "data": {
      "image/png": "[encoded data removed]",
      "text/plain": [
       "<Figure size 600x600 with 16 Axes>"
      ]
     },
     "metadata": {},
     "output_type": "display_data"
    }
   ],
   "source": [
    "# https://pandas.pydata.org/pandas-docs/stable/generated/pandas.plotting.scatter_matrix.html\n",
    "from pandas.plotting import scatter_matrix\n",
    "scatter_matrix(df[df['species']=='Iris-setosa'], alpha=0.2, figsize=(6, 6), diagonal='hist')\n",
    "plt.show()"
   ]
  },
  {
   "cell_type": "markdown",
   "metadata": {
    "id": "T0weK2e_7Xg3"
   },
   "source": [
    "The scatter plot in the first row and second colum suggests that there is some relationship between *slength* and *swidth*. It seems that the larger *swidth* is the larger is also *slength*."
   ]
  },
  {
   "cell_type": "markdown",
   "metadata": {
    "id": "ZY2mdnccBN_m"
   },
   "source": [
    "## 2.2 Numerical Analyis\n",
    "\n",
    "### 2.3 Correlation\n",
    "To get more information on the correlation between two variables the correlation coefficient is calculated.\n",
    "\n",
    "Let's see whether the correlation coefficient does support this observation.\n",
    "\n",
    "**Caution**: correlation not equals causation!!\n"
   ]
  },
  {
   "cell_type": "code",
   "execution_count": 25,
   "metadata": {
    "colab": {
     "base_uri": "https://localhost:8080/",
     "height": 230
    },
    "executionInfo": {
     "elapsed": 8,
     "status": "ok",
     "timestamp": 1692797742438,
     "user": {
      "displayName": "Anja Mühlemann",
      "userId": "13180139022750424409"
     },
     "user_tz": -120
    },
    "id": "s411Z4HHBN_m",
    "outputId": "21127344-2b40-43c8-c6be-c9205874ae7f",
    "tags": []
   },
   "outputs": [
    {
     "data": {
      "text/html": [
       "<div>\n",
       "<style scoped>\n",
       "    .dataframe tbody tr th:only-of-type {\n",
       "        vertical-align: middle;\n",
       "    }\n",
       "\n",
       "    .dataframe tbody tr th {\n",
       "        vertical-align: top;\n",
       "    }\n",
       "\n",
       "    .dataframe thead th {\n",
       "        text-align: right;\n",
       "    }\n",
       "</style>\n",
       "<table border=\"1\" class=\"dataframe\">\n",
       "  <thead>\n",
       "    <tr style=\"text-align: right;\">\n",
       "      <th></th>\n",
       "      <th>slength</th>\n",
       "      <th>swidth</th>\n",
       "      <th>plength</th>\n",
       "      <th>pwidth</th>\n",
       "    </tr>\n",
       "  </thead>\n",
       "  <tbody>\n",
       "    <tr>\n",
       "      <th>slength</th>\n",
       "      <td>1.000000</td>\n",
       "      <td>0.746780</td>\n",
       "      <td>0.263874</td>\n",
       "      <td>0.279092</td>\n",
       "    </tr>\n",
       "    <tr>\n",
       "      <th>swidth</th>\n",
       "      <td>0.746780</td>\n",
       "      <td>1.000000</td>\n",
       "      <td>0.176695</td>\n",
       "      <td>0.279973</td>\n",
       "    </tr>\n",
       "    <tr>\n",
       "      <th>plength</th>\n",
       "      <td>0.263874</td>\n",
       "      <td>0.176695</td>\n",
       "      <td>1.000000</td>\n",
       "      <td>0.306308</td>\n",
       "    </tr>\n",
       "    <tr>\n",
       "      <th>pwidth</th>\n",
       "      <td>0.279092</td>\n",
       "      <td>0.279973</td>\n",
       "      <td>0.306308</td>\n",
       "      <td>1.000000</td>\n",
       "    </tr>\n",
       "  </tbody>\n",
       "</table>\n",
       "</div>"
      ],
      "text/plain": [
       "          slength    swidth   plength    pwidth\n",
       "slength  1.000000  0.746780  0.263874  0.279092\n",
       "swidth   0.746780  1.000000  0.176695  0.279973\n",
       "plength  0.263874  0.176695  1.000000  0.306308\n",
       "pwidth   0.279092  0.279973  0.306308  1.000000"
      ]
     },
     "execution_count": 25,
     "metadata": {},
     "output_type": "execute_result"
    }
   ],
   "source": [
    "df[df['species']=='Iris-setosa'].corr(numeric_only=True) #numeric only=True needed for the new Pandas version"
   ]
  },
  {
   "cell_type": "markdown",
   "metadata": {
    "id": "2EII7nSeBN_m"
   },
   "source": [
    "What is the definition of the correlation?\n"
   ]
  },
  {
   "cell_type": "markdown",
   "metadata": {
    "id": "BqbmMLgp8fxz"
   },
   "source": [
    "What kind of relationship between *swidth* and *slength* does the correlation coefficient suggest?"
   ]
  },
  {
   "cell_type": "markdown",
   "metadata": {
    "id": "lmtjRQ7075PX"
   },
   "source": [
    "How about the other species?"
   ]
  },
  {
   "cell_type": "code",
   "execution_count": 26,
   "metadata": {
    "colab": {
     "base_uri": "https://localhost:8080/",
     "height": 430
    },
    "executionInfo": {
     "elapsed": 644,
     "status": "ok",
     "timestamp": 1692797743077,
     "user": {
      "displayName": "Anja Mühlemann",
      "userId": "13180139022750424409"
     },
     "user_tz": -120
    },
    "id": "J9_R0m8e0Y42",
    "outputId": "745da8c3-69e2-41b8-d46b-8363b2013eb8",
    "tags": []
   },
   "outputs": [
    {
     "data": {
      "image/png": "[encoded data removed]",
      "text/plain": [
       "<Figure size 800x800 with 2 Axes>"
      ]
     },
     "metadata": {},
     "output_type": "display_data"
    }
   ],
   "source": [
    "color=np.repeat(np.array(['red', 'pink', 'purple']), [50, 50, 50], axis=0)\n",
    "df1=pd.DataFrame(dict(col=color))\n",
    "df2=pd.concat([df, df1], axis=1)\n",
    "\n",
    "plt.figure(figsize=(8  ,8))\n",
    "\n",
    "plt.subplot(2,2,1)\n",
    "plt.scatter(df2['slength'], df2['swidth'], c=df2['col'])\n",
    "plt.xlabel('slength')\n",
    "plt.ylabel('swidth')\n",
    "\n",
    "plt.subplot(2,2,2)\n",
    "plt.scatter(df2['plength'], df2['pwidth'], c=df2['col'])\n",
    "plt.xlabel('plength')\n",
    "plt.ylabel('pwidth')\n",
    "\n",
    "plt.tight_layout(h_pad=2, w_pad=2)\n",
    "plt.show()"
   ]
  },
  {
   "cell_type": "markdown",
   "metadata": {
    "id": "wHez0bMwBN_q"
   },
   "source": [
    "## Remark\n",
    "\n",
    "This was only a short overview on what can be done and on how these approaches can be implemented using python. Of course there are many more options that could be explored.\n",
    "\n"
   ]
  }
 ],
 "metadata": {
  "colab": {
   "provenance": []
  },
  "kernelspec": {
   "display_name": "Python 3 (ipykernel)",
   "language": "python",
   "name": "python3"
  },
  "language_info": {
   "codemirror_mode": {
    "name": "ipython",
    "version": 3
   },
   "file_extension": ".py",
   "mimetype": "text/x-python",
   "name": "python",
   "nbconvert_exporter": "python",
   "pygments_lexer": "ipython3",
   "version": "3.11.4"
  }
 },
 "nbformat": 4,
 "nbformat_minor": 4
}
