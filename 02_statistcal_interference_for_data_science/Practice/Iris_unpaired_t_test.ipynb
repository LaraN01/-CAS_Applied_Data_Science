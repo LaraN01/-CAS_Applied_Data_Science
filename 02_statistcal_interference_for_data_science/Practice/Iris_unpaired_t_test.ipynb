{
 "cells": [
  {
   "cell_type": "code",
   "execution_count": 1,
   "id": "7fa7d271-0069-46f9-8bed-c5b8240aa218",
   "metadata": {
    "tags": []
   },
   "outputs": [],
   "source": [
    "import pandas as pd\n",
    "import numpy as np\n",
    "import matplotlib.pyplot as plt\n",
    "import scipy.stats"
   ]
  },
  {
   "cell_type": "code",
   "execution_count": 2,
   "id": "bb3f7c27-0929-40cc-9354-60724b78af43",
   "metadata": {
    "tags": []
   },
   "outputs": [
    {
     "data": {
      "text/html": [
       "<div>\n",
       "<style scoped>\n",
       "    .dataframe tbody tr th:only-of-type {\n",
       "        vertical-align: middle;\n",
       "    }\n",
       "\n",
       "    .dataframe tbody tr th {\n",
       "        vertical-align: top;\n",
       "    }\n",
       "\n",
       "    .dataframe thead th {\n",
       "        text-align: right;\n",
       "    }\n",
       "</style>\n",
       "<table border=\"1\" class=\"dataframe\">\n",
       "  <thead>\n",
       "    <tr style=\"text-align: right;\">\n",
       "      <th></th>\n",
       "      <th>slength</th>\n",
       "      <th>swidth</th>\n",
       "      <th>plength</th>\n",
       "      <th>pwidth</th>\n",
       "      <th>species</th>\n",
       "    </tr>\n",
       "  </thead>\n",
       "  <tbody>\n",
       "    <tr>\n",
       "      <th>0</th>\n",
       "      <td>5.1</td>\n",
       "      <td>3.5</td>\n",
       "      <td>1.4</td>\n",
       "      <td>0.2</td>\n",
       "      <td>Iris-setosa</td>\n",
       "    </tr>\n",
       "    <tr>\n",
       "      <th>1</th>\n",
       "      <td>4.9</td>\n",
       "      <td>3.0</td>\n",
       "      <td>1.4</td>\n",
       "      <td>0.2</td>\n",
       "      <td>Iris-setosa</td>\n",
       "    </tr>\n",
       "    <tr>\n",
       "      <th>2</th>\n",
       "      <td>4.7</td>\n",
       "      <td>3.2</td>\n",
       "      <td>1.3</td>\n",
       "      <td>0.2</td>\n",
       "      <td>Iris-setosa</td>\n",
       "    </tr>\n",
       "    <tr>\n",
       "      <th>3</th>\n",
       "      <td>4.6</td>\n",
       "      <td>3.1</td>\n",
       "      <td>1.5</td>\n",
       "      <td>0.2</td>\n",
       "      <td>Iris-setosa</td>\n",
       "    </tr>\n",
       "    <tr>\n",
       "      <th>4</th>\n",
       "      <td>5.0</td>\n",
       "      <td>3.6</td>\n",
       "      <td>1.4</td>\n",
       "      <td>0.2</td>\n",
       "      <td>Iris-setosa</td>\n",
       "    </tr>\n",
       "  </tbody>\n",
       "</table>\n",
       "</div>"
      ],
      "text/plain": [
       "   slength  swidth  plength  pwidth      species\n",
       "0      5.1     3.5      1.4     0.2  Iris-setosa\n",
       "1      4.9     3.0      1.4     0.2  Iris-setosa\n",
       "2      4.7     3.2      1.3     0.2  Iris-setosa\n",
       "3      4.6     3.1      1.5     0.2  Iris-setosa\n",
       "4      5.0     3.6      1.4     0.2  Iris-setosa"
      ]
     },
     "execution_count": 2,
     "metadata": {},
     "output_type": "execute_result"
    }
   ],
   "source": [
    "url = \"https://archive.ics.uci.edu/ml/machine-learning-databases/iris/iris.data\"\n",
    "dataframe = pd.read_csv(url,names=['slength','swidth','plength','pwidth','species'])\n",
    "dataframe.head()\n"
   ]
  },
  {
   "cell_type": "code",
   "execution_count": 3,
   "id": "b952fa37-5855-44b3-99e6-a095dc0aeebc",
   "metadata": {
    "tags": []
   },
   "outputs": [],
   "source": [
    "iris_vir=dataframe.loc[dataframe['species']=='Iris-virginica']"
   ]
  },
  {
   "cell_type": "code",
   "execution_count": 4,
   "id": "4f0912ac-2c9b-4e16-8247-361d3a90c8d0",
   "metadata": {
    "tags": []
   },
   "outputs": [
    {
     "data": {
      "text/plain": [
       "slength    6.588\n",
       "swidth     2.974\n",
       "plength    5.552\n",
       "pwidth     2.026\n",
       "dtype: float64"
      ]
     },
     "execution_count": 4,
     "metadata": {},
     "output_type": "execute_result"
    }
   ],
   "source": [
    "iris_vir.mean(numeric_only=True)"
   ]
  },
  {
   "cell_type": "code",
   "execution_count": 5,
   "id": "2c3f8c4e-9cbd-414d-87db-c736970c9de8",
   "metadata": {
    "tags": []
   },
   "outputs": [
    {
     "data": {
      "text/plain": [
       "slength    0.635880\n",
       "swidth     0.322497\n",
       "plength    0.551895\n",
       "pwidth     0.274650\n",
       "dtype: float64"
      ]
     },
     "execution_count": 5,
     "metadata": {},
     "output_type": "execute_result"
    }
   ],
   "source": [
    "var=iris_vir.var(numeric_only=True)\n",
    "var**0.5"
   ]
  },
  {
   "cell_type": "code",
   "execution_count": 6,
   "id": "97c4c5a6-db47-4445-9e43-da43115dca02",
   "metadata": {
    "tags": []
   },
   "outputs": [],
   "source": [
    "iris_set=dataframe.loc[dataframe['species']=='Iris-setosa']"
   ]
  },
  {
   "cell_type": "code",
   "execution_count": 7,
   "id": "42f25c55-6c17-4e12-a2fd-2c8a1959ebda",
   "metadata": {
    "tags": []
   },
   "outputs": [
    {
     "data": {
      "text/plain": [
       "slength    5.006\n",
       "swidth     3.418\n",
       "plength    1.464\n",
       "pwidth     0.244\n",
       "dtype: float64"
      ]
     },
     "execution_count": 7,
     "metadata": {},
     "output_type": "execute_result"
    }
   ],
   "source": [
    "iris_set.mean(numeric_only=True)"
   ]
  },
  {
   "cell_type": "code",
   "execution_count": 8,
   "id": "944d2c04-6af6-4d8a-87bf-fd30c44172de",
   "metadata": {
    "tags": []
   },
   "outputs": [
    {
     "data": {
      "text/plain": [
       "slength    0.352490\n",
       "swidth     0.381024\n",
       "plength    0.173511\n",
       "pwidth     0.107210\n",
       "dtype: float64"
      ]
     },
     "execution_count": 8,
     "metadata": {},
     "output_type": "execute_result"
    }
   ],
   "source": [
    "var_1=iris_set.var(numeric_only=True)\n",
    "var_1**0.5"
   ]
  },
  {
   "cell_type": "markdown",
   "id": "53396d07-8747-4360-aa08-cc80d50960ab",
   "metadata": {},
   "source": [
    "Iris virginica swidth sd= 0.322497\n",
    "\n",
    "Iris setosa swidth sd= 0.381024\n",
    "\n",
    "The two values are comparable"
   ]
  },
  {
   "cell_type": "code",
   "execution_count": 12,
   "id": "9c940107-e4ba-45b9-9d1d-c0bfb82cb5d4",
   "metadata": {
    "tags": []
   },
   "outputs": [],
   "source": [
    "import statsmodels.api as sm"
   ]
  },
  {
   "cell_type": "code",
   "execution_count": 15,
   "id": "f1c92e6a-b5ee-49be-b6cc-a78782e2ef09",
   "metadata": {
    "tags": []
   },
   "outputs": [
    {
     "data": {
      "image/png": "[encoded data removed]",
      "text/plain": [
       "<Figure size 640x480 with 2 Axes>"
      ]
     },
     "metadata": {},
     "output_type": "display_data"
    }
   ],
   "source": [
    "swidth_v=iris_vir['swidth']\n",
    "swidth_s=iris_set['swidth']\n",
    "\n",
    "fig, axs=plt.subplots(1,2, sharey=True, tight_layout=True)\n",
    "axs[0].set_title('QQ plot for swidth_v')\n",
    "sm.qqplot(swidth_v, line='s', ax=axs[0])\n",
    "\n",
    "axs[1].set_title('QQ plot for swidth_s')\n",
    "sm.qqplot(swidth_s, line='s', ax=axs[1])\n",
    "\n",
    "plt.show()"
   ]
  },
  {
   "cell_type": "markdown",
   "id": "e85fe9c1-93a2-48c2-8f02-885fa27b176c",
   "metadata": {},
   "source": [
    "### Normality was confirmed, variance was compared and is similar, we can apply an unpaired t-test"
   ]
  },
  {
   "cell_type": "code",
   "execution_count": 20,
   "id": "7920f4c4-159e-4e2a-b57f-debe591643b6",
   "metadata": {
    "tags": []
   },
   "outputs": [
    {
     "data": {
      "text/plain": [
       "TtestResult(statistic=6.289384996672061, pvalue=8.916634067006443e-09, df=98.0)"
      ]
     },
     "execution_count": 20,
     "metadata": {},
     "output_type": "execute_result"
    }
   ],
   "source": [
    "from scipy import stats\n",
    "stats.ttest_ind(iris_set['swidth'],iris_vir['swidth'], equal_var = True, alternative='two-sided') "
   ]
  },
  {
   "cell_type": "markdown",
   "id": "31bc0562-7e67-4807-9f13-a6cfd2afaefa",
   "metadata": {},
   "source": [
    "We should be able to separate the two species from the sepal lenght. "
   ]
  },
  {
   "cell_type": "markdown",
   "id": "7b1dab55-4c18-4a0e-b77a-a2986d3eab0f",
   "metadata": {},
   "source": [
    "the two means are not comparable, null hypothesis failed, running hypothesis holds"
   ]
  },
  {
   "cell_type": "code",
   "execution_count": null,
   "id": "7a207586-72e9-44a3-8881-3e31ab2e4606",
   "metadata": {},
   "outputs": [],
   "source": []
  }
 ],
 "metadata": {
  "kernelspec": {
   "display_name": "Python 3 (ipykernel)",
   "language": "python",
   "name": "python3"
  },
  "language_info": {
   "codemirror_mode": {
    "name": "ipython",
    "version": 3
   },
   "file_extension": ".py",
   "mimetype": "text/x-python",
   "name": "python",
   "nbconvert_exporter": "python",
   "pygments_lexer": "ipython3",
   "version": "3.11.4"
  }
 },
 "nbformat": 4,
 "nbformat_minor": 5
}
